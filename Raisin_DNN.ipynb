{
  "nbformat": 4,
  "nbformat_minor": 0,
  "metadata": {
    "colab": {
      "provenance": []
    },
    "kernelspec": {
      "name": "python3",
      "display_name": "Python 3"
    },
    "language_info": {
      "name": "python"
    }
  },
  "cells": [
    {
      "cell_type": "code",
      "execution_count": 1,
      "metadata": {
        "id": "L04lnynuZ5yI"
      },
      "outputs": [],
      "source": [
        "import numpy as np\n",
        "import matplotlib.pyplot as plt\n",
        "import pandas as pd"
      ]
    },
    {
      "cell_type": "code",
      "source": [
        "from google.colab import drive\n",
        "drive.mount('/content/drive')\n",
        "file_path = \"/content/drive/MyDrive/Raisin_Dataset.csv\"\n",
        "raisin = pd.read_csv(file_path, index_col = 0)"
      ],
      "metadata": {
        "colab": {
          "base_uri": "https://localhost:8080/"
        },
        "id": "lK4XZUQ7a2yz",
        "outputId": "d9e5ef4d-eb1d-4e12-e613-a1f55f747638"
      },
      "execution_count": 2,
      "outputs": [
        {
          "output_type": "stream",
          "name": "stdout",
          "text": [
            "Mounted at /content/drive\n"
          ]
        }
      ]
    },
    {
      "cell_type": "code",
      "source": [
        "raisin.head()"
      ],
      "metadata": {
        "colab": {
          "base_uri": "https://localhost:8080/",
          "height": 237
        },
        "id": "lLC8Zc_4a89R",
        "outputId": "8f7a7440-b5e1-44fa-a26c-7d395f2c84b9"
      },
      "execution_count": 3,
      "outputs": [
        {
          "output_type": "execute_result",
          "data": {
            "text/plain": [
              "       MajorAxisLength  MinorAxisLength  Eccentricity  ConvexArea    Extent  \\\n",
              "Area                                                                          \n",
              "87524       442.246011       253.291155      0.819738       90546  0.758651   \n",
              "75166       406.690687       243.032436      0.801805       78789  0.684130   \n",
              "90856       442.267048       266.328318      0.798354       93717  0.637613   \n",
              "45928       286.540559       208.760042      0.684989       47336  0.699599   \n",
              "79408       352.190770       290.827533      0.564011       81463  0.792772   \n",
              "\n",
              "       Perimeter    Class  \n",
              "Area                       \n",
              "87524   1184.040  Kecimen  \n",
              "75166   1121.786  Kecimen  \n",
              "90856   1208.575  Kecimen  \n",
              "45928    844.162  Kecimen  \n",
              "79408   1073.251  Kecimen  "
            ],
            "text/html": [
              "\n",
              "  <div id=\"df-693f4881-6a6f-4862-adb4-d87545b3030d\">\n",
              "    <div class=\"colab-df-container\">\n",
              "      <div>\n",
              "<style scoped>\n",
              "    .dataframe tbody tr th:only-of-type {\n",
              "        vertical-align: middle;\n",
              "    }\n",
              "\n",
              "    .dataframe tbody tr th {\n",
              "        vertical-align: top;\n",
              "    }\n",
              "\n",
              "    .dataframe thead th {\n",
              "        text-align: right;\n",
              "    }\n",
              "</style>\n",
              "<table border=\"1\" class=\"dataframe\">\n",
              "  <thead>\n",
              "    <tr style=\"text-align: right;\">\n",
              "      <th></th>\n",
              "      <th>MajorAxisLength</th>\n",
              "      <th>MinorAxisLength</th>\n",
              "      <th>Eccentricity</th>\n",
              "      <th>ConvexArea</th>\n",
              "      <th>Extent</th>\n",
              "      <th>Perimeter</th>\n",
              "      <th>Class</th>\n",
              "    </tr>\n",
              "    <tr>\n",
              "      <th>Area</th>\n",
              "      <th></th>\n",
              "      <th></th>\n",
              "      <th></th>\n",
              "      <th></th>\n",
              "      <th></th>\n",
              "      <th></th>\n",
              "      <th></th>\n",
              "    </tr>\n",
              "  </thead>\n",
              "  <tbody>\n",
              "    <tr>\n",
              "      <th>87524</th>\n",
              "      <td>442.246011</td>\n",
              "      <td>253.291155</td>\n",
              "      <td>0.819738</td>\n",
              "      <td>90546</td>\n",
              "      <td>0.758651</td>\n",
              "      <td>1184.040</td>\n",
              "      <td>Kecimen</td>\n",
              "    </tr>\n",
              "    <tr>\n",
              "      <th>75166</th>\n",
              "      <td>406.690687</td>\n",
              "      <td>243.032436</td>\n",
              "      <td>0.801805</td>\n",
              "      <td>78789</td>\n",
              "      <td>0.684130</td>\n",
              "      <td>1121.786</td>\n",
              "      <td>Kecimen</td>\n",
              "    </tr>\n",
              "    <tr>\n",
              "      <th>90856</th>\n",
              "      <td>442.267048</td>\n",
              "      <td>266.328318</td>\n",
              "      <td>0.798354</td>\n",
              "      <td>93717</td>\n",
              "      <td>0.637613</td>\n",
              "      <td>1208.575</td>\n",
              "      <td>Kecimen</td>\n",
              "    </tr>\n",
              "    <tr>\n",
              "      <th>45928</th>\n",
              "      <td>286.540559</td>\n",
              "      <td>208.760042</td>\n",
              "      <td>0.684989</td>\n",
              "      <td>47336</td>\n",
              "      <td>0.699599</td>\n",
              "      <td>844.162</td>\n",
              "      <td>Kecimen</td>\n",
              "    </tr>\n",
              "    <tr>\n",
              "      <th>79408</th>\n",
              "      <td>352.190770</td>\n",
              "      <td>290.827533</td>\n",
              "      <td>0.564011</td>\n",
              "      <td>81463</td>\n",
              "      <td>0.792772</td>\n",
              "      <td>1073.251</td>\n",
              "      <td>Kecimen</td>\n",
              "    </tr>\n",
              "  </tbody>\n",
              "</table>\n",
              "</div>\n",
              "      <button class=\"colab-df-convert\" onclick=\"convertToInteractive('df-693f4881-6a6f-4862-adb4-d87545b3030d')\"\n",
              "              title=\"Convert this dataframe to an interactive table.\"\n",
              "              style=\"display:none;\">\n",
              "        \n",
              "  <svg xmlns=\"http://www.w3.org/2000/svg\" height=\"24px\"viewBox=\"0 0 24 24\"\n",
              "       width=\"24px\">\n",
              "    <path d=\"M0 0h24v24H0V0z\" fill=\"none\"/>\n",
              "    <path d=\"M18.56 5.44l.94 2.06.94-2.06 2.06-.94-2.06-.94-.94-2.06-.94 2.06-2.06.94zm-11 1L8.5 8.5l.94-2.06 2.06-.94-2.06-.94L8.5 2.5l-.94 2.06-2.06.94zm10 10l.94 2.06.94-2.06 2.06-.94-2.06-.94-.94-2.06-.94 2.06-2.06.94z\"/><path d=\"M17.41 7.96l-1.37-1.37c-.4-.4-.92-.59-1.43-.59-.52 0-1.04.2-1.43.59L10.3 9.45l-7.72 7.72c-.78.78-.78 2.05 0 2.83L4 21.41c.39.39.9.59 1.41.59.51 0 1.02-.2 1.41-.59l7.78-7.78 2.81-2.81c.8-.78.8-2.07 0-2.86zM5.41 20L4 18.59l7.72-7.72 1.47 1.35L5.41 20z\"/>\n",
              "  </svg>\n",
              "      </button>\n",
              "      \n",
              "  <style>\n",
              "    .colab-df-container {\n",
              "      display:flex;\n",
              "      flex-wrap:wrap;\n",
              "      gap: 12px;\n",
              "    }\n",
              "\n",
              "    .colab-df-convert {\n",
              "      background-color: #E8F0FE;\n",
              "      border: none;\n",
              "      border-radius: 50%;\n",
              "      cursor: pointer;\n",
              "      display: none;\n",
              "      fill: #1967D2;\n",
              "      height: 32px;\n",
              "      padding: 0 0 0 0;\n",
              "      width: 32px;\n",
              "    }\n",
              "\n",
              "    .colab-df-convert:hover {\n",
              "      background-color: #E2EBFA;\n",
              "      box-shadow: 0px 1px 2px rgba(60, 64, 67, 0.3), 0px 1px 3px 1px rgba(60, 64, 67, 0.15);\n",
              "      fill: #174EA6;\n",
              "    }\n",
              "\n",
              "    [theme=dark] .colab-df-convert {\n",
              "      background-color: #3B4455;\n",
              "      fill: #D2E3FC;\n",
              "    }\n",
              "\n",
              "    [theme=dark] .colab-df-convert:hover {\n",
              "      background-color: #434B5C;\n",
              "      box-shadow: 0px 1px 3px 1px rgba(0, 0, 0, 0.15);\n",
              "      filter: drop-shadow(0px 1px 2px rgba(0, 0, 0, 0.3));\n",
              "      fill: #FFFFFF;\n",
              "    }\n",
              "  </style>\n",
              "\n",
              "      <script>\n",
              "        const buttonEl =\n",
              "          document.querySelector('#df-693f4881-6a6f-4862-adb4-d87545b3030d button.colab-df-convert');\n",
              "        buttonEl.style.display =\n",
              "          google.colab.kernel.accessAllowed ? 'block' : 'none';\n",
              "\n",
              "        async function convertToInteractive(key) {\n",
              "          const element = document.querySelector('#df-693f4881-6a6f-4862-adb4-d87545b3030d');\n",
              "          const dataTable =\n",
              "            await google.colab.kernel.invokeFunction('convertToInteractive',\n",
              "                                                     [key], {});\n",
              "          if (!dataTable) return;\n",
              "\n",
              "          const docLinkHtml = 'Like what you see? Visit the ' +\n",
              "            '<a target=\"_blank\" href=https://colab.research.google.com/notebooks/data_table.ipynb>data table notebook</a>'\n",
              "            + ' to learn more about interactive tables.';\n",
              "          element.innerHTML = '';\n",
              "          dataTable['output_type'] = 'display_data';\n",
              "          await google.colab.output.renderOutput(dataTable, element);\n",
              "          const docLink = document.createElement('div');\n",
              "          docLink.innerHTML = docLinkHtml;\n",
              "          element.appendChild(docLink);\n",
              "        }\n",
              "      </script>\n",
              "    </div>\n",
              "  </div>\n",
              "  "
            ]
          },
          "metadata": {},
          "execution_count": 3
        }
      ]
    },
    {
      "cell_type": "code",
      "source": [
        "raisin.reset_index(inplace = True)\n",
        "print(raisin)"
      ],
      "metadata": {
        "colab": {
          "base_uri": "https://localhost:8080/"
        },
        "id": "04J-fR6UbVsa",
        "outputId": "6b5e4f16-885f-4e4c-9410-4f6edf14d5a6"
      },
      "execution_count": 4,
      "outputs": [
        {
          "output_type": "stream",
          "name": "stdout",
          "text": [
            "      Area  MajorAxisLength  MinorAxisLength  Eccentricity  ConvexArea  \\\n",
            "0    87524       442.246011       253.291155      0.819738       90546   \n",
            "1    75166       406.690687       243.032436      0.801805       78789   \n",
            "2    90856       442.267048       266.328318      0.798354       93717   \n",
            "3    45928       286.540559       208.760042      0.684989       47336   \n",
            "4    79408       352.190770       290.827533      0.564011       81463   \n",
            "..     ...              ...              ...           ...         ...   \n",
            "895  83248       430.077308       247.838695      0.817263       85839   \n",
            "896  87350       440.735698       259.293149      0.808629       90899   \n",
            "897  99657       431.706981       298.837323      0.721684      106264   \n",
            "898  93523       476.344094       254.176054      0.845739       97653   \n",
            "899  85609       512.081774       215.271976      0.907345       89197   \n",
            "\n",
            "       Extent  Perimeter    Class  \n",
            "0    0.758651   1184.040  Kecimen  \n",
            "1    0.684130   1121.786  Kecimen  \n",
            "2    0.637613   1208.575  Kecimen  \n",
            "3    0.699599    844.162  Kecimen  \n",
            "4    0.792772   1073.251  Kecimen  \n",
            "..        ...        ...      ...  \n",
            "895  0.668793   1129.072    Besni  \n",
            "896  0.636476   1214.252    Besni  \n",
            "897  0.741099   1292.828    Besni  \n",
            "898  0.658798   1258.548    Besni  \n",
            "899  0.632020   1272.862    Besni  \n",
            "\n",
            "[900 rows x 8 columns]\n"
          ]
        }
      ]
    },
    {
      "cell_type": "code",
      "source": [
        "raisin.columns"
      ],
      "metadata": {
        "colab": {
          "base_uri": "https://localhost:8080/"
        },
        "id": "bC9yCbbebZq6",
        "outputId": "a9914c7d-e46a-4d1c-cf53-9b11205e461c"
      },
      "execution_count": 5,
      "outputs": [
        {
          "output_type": "execute_result",
          "data": {
            "text/plain": [
              "Index(['Area', 'MajorAxisLength', 'MinorAxisLength', 'Eccentricity',\n",
              "       'ConvexArea', 'Extent', 'Perimeter', 'Class'],\n",
              "      dtype='object')"
            ]
          },
          "metadata": {},
          "execution_count": 5
        }
      ]
    },
    {
      "cell_type": "code",
      "source": [
        "raisin['Class'] = raisin['Class'].replace({'Kecimen': 0, 'Besni': 1})"
      ],
      "metadata": {
        "id": "xEn2FnFlfoLh"
      },
      "execution_count": 6,
      "outputs": []
    },
    {
      "cell_type": "code",
      "source": [
        "print(raisin['Class'])"
      ],
      "metadata": {
        "colab": {
          "base_uri": "https://localhost:8080/"
        },
        "id": "i8Hrhkmffuq1",
        "outputId": "01d415e9-e8fb-496d-de85-9287e8f191d7"
      },
      "execution_count": 7,
      "outputs": [
        {
          "output_type": "stream",
          "name": "stdout",
          "text": [
            "0      0\n",
            "1      0\n",
            "2      0\n",
            "3      0\n",
            "4      0\n",
            "      ..\n",
            "895    1\n",
            "896    1\n",
            "897    1\n",
            "898    1\n",
            "899    1\n",
            "Name: Class, Length: 900, dtype: int64\n"
          ]
        }
      ]
    },
    {
      "cell_type": "code",
      "source": [
        "raisin_input  = raisin[[\"Area\", \"MajorAxisLength\", \"MinorAxisLength\", \"Eccentricity\", \"ConvexArea\", \"Extent\", \"Perimeter\"]].to_numpy()\n",
        "raisin_target = raisin[\"Class\"].to_numpy()"
      ],
      "metadata": {
        "id": "a14yDT0fbhD0"
      },
      "execution_count": 8,
      "outputs": []
    },
    {
      "cell_type": "code",
      "source": [
        "from sklearn.model_selection import train_test_split\n",
        "from sklearn.preprocessing import StandardScaler\n",
        "\n",
        "train_input, test_input, train_target, test_target = train_test_split(raisin_input, raisin_target)\n",
        "ss = StandardScaler()\n",
        "ss.fit(train_input)\n",
        "train_scaled = ss.transform(train_input)\n",
        "test_scaled  = ss.transform(test_input)"
      ],
      "metadata": {
        "id": "r0arCUCecW3s"
      },
      "execution_count": 9,
      "outputs": []
    },
    {
      "cell_type": "code",
      "source": [
        "print(train_scaled.shape)\n",
        "print(test_scaled.shape)"
      ],
      "metadata": {
        "colab": {
          "base_uri": "https://localhost:8080/"
        },
        "id": "7mqOgJvocfz4",
        "outputId": "eb9b7b80-23ab-4e60-97ef-153ece89fbef"
      },
      "execution_count": 10,
      "outputs": [
        {
          "output_type": "stream",
          "name": "stdout",
          "text": [
            "(675, 7)\n",
            "(225, 7)\n"
          ]
        }
      ]
    },
    {
      "cell_type": "code",
      "source": [
        "import tensorflow as tf\n",
        "from tensorflow import keras\n",
        "from keras.models import Sequential\n",
        "from keras.layers import Dense\n",
        "from tensorflow._api.v2.config import optimizer\n",
        "\n",
        "model = tf.keras.Sequential([\n",
        "    tf.keras.layers.Dense(128, activation='relu'),\n",
        "    tf.keras.layers.Dense(64, activation='relu'),\n",
        "    tf.keras.layers.Dense(32, activation='relu'),\n",
        "    tf.keras.layers.Dense(16, activation='relu'),\n",
        "])"
      ],
      "metadata": {
        "id": "nnGZs_Mve2Qy"
      },
      "execution_count": 14,
      "outputs": []
    },
    {
      "cell_type": "code",
      "source": [
        "model.compile(optimizer='adam',\n",
        "              loss=tf.keras.losses.SparseCategoricalCrossentropy(from_logits=True),\n",
        "              metrics=['accuracy'])"
      ],
      "metadata": {
        "id": "53tTreB7hYpH"
      },
      "execution_count": 15,
      "outputs": []
    },
    {
      "cell_type": "code",
      "source": [
        "history = model.fit(train_scaled, train_target, epochs = 100, validation_data = (test_scaled, test_target))"
      ],
      "metadata": {
        "colab": {
          "base_uri": "https://localhost:8080/"
        },
        "id": "2ilUNLquhlHf",
        "outputId": "29afcc06-b0cd-4fca-9a30-a694a0c3626a"
      },
      "execution_count": 17,
      "outputs": [
        {
          "output_type": "stream",
          "name": "stdout",
          "text": [
            "Epoch 1/100\n",
            "22/22 [==============================] - 2s 15ms/step - loss: 2.1537 - accuracy: 0.8044 - val_loss: 1.3449 - val_accuracy: 0.8711\n",
            "Epoch 2/100\n",
            "22/22 [==============================] - 0s 4ms/step - loss: 0.9079 - accuracy: 0.8711 - val_loss: 0.4644 - val_accuracy: 0.8711\n",
            "Epoch 3/100\n",
            "22/22 [==============================] - 0s 5ms/step - loss: 0.4740 - accuracy: 0.8726 - val_loss: 0.3436 - val_accuracy: 0.8711\n",
            "Epoch 4/100\n",
            "22/22 [==============================] - 0s 4ms/step - loss: 0.3897 - accuracy: 0.8696 - val_loss: 0.3249 - val_accuracy: 0.8800\n",
            "Epoch 5/100\n",
            "22/22 [==============================] - 0s 4ms/step - loss: 0.3635 - accuracy: 0.8667 - val_loss: 0.3232 - val_accuracy: 0.8889\n",
            "Epoch 6/100\n",
            "22/22 [==============================] - 0s 4ms/step - loss: 0.3562 - accuracy: 0.8637 - val_loss: 0.3203 - val_accuracy: 0.8800\n",
            "Epoch 7/100\n",
            "22/22 [==============================] - 0s 4ms/step - loss: 0.3523 - accuracy: 0.8711 - val_loss: 0.3166 - val_accuracy: 0.8756\n",
            "Epoch 8/100\n",
            "22/22 [==============================] - 0s 5ms/step - loss: 0.3465 - accuracy: 0.8652 - val_loss: 0.3261 - val_accuracy: 0.8533\n",
            "Epoch 9/100\n",
            "22/22 [==============================] - 0s 4ms/step - loss: 0.3486 - accuracy: 0.8622 - val_loss: 0.3122 - val_accuracy: 0.8756\n",
            "Epoch 10/100\n",
            "22/22 [==============================] - 0s 4ms/step - loss: 0.3459 - accuracy: 0.8696 - val_loss: 0.3180 - val_accuracy: 0.8622\n",
            "Epoch 11/100\n",
            "22/22 [==============================] - 0s 4ms/step - loss: 0.3391 - accuracy: 0.8770 - val_loss: 0.3139 - val_accuracy: 0.8756\n",
            "Epoch 12/100\n",
            "22/22 [==============================] - 0s 4ms/step - loss: 0.3287 - accuracy: 0.8681 - val_loss: 0.3271 - val_accuracy: 0.8578\n",
            "Epoch 13/100\n",
            "22/22 [==============================] - 0s 4ms/step - loss: 0.3356 - accuracy: 0.8726 - val_loss: 0.3107 - val_accuracy: 0.8800\n",
            "Epoch 14/100\n",
            "22/22 [==============================] - 0s 4ms/step - loss: 0.3365 - accuracy: 0.8607 - val_loss: 0.3142 - val_accuracy: 0.8800\n",
            "Epoch 15/100\n",
            "22/22 [==============================] - 0s 4ms/step - loss: 0.3307 - accuracy: 0.8681 - val_loss: 0.3114 - val_accuracy: 0.8756\n",
            "Epoch 16/100\n",
            "22/22 [==============================] - 0s 4ms/step - loss: 0.3264 - accuracy: 0.8667 - val_loss: 0.3229 - val_accuracy: 0.8622\n",
            "Epoch 17/100\n",
            "22/22 [==============================] - 0s 4ms/step - loss: 0.3235 - accuracy: 0.8652 - val_loss: 0.3155 - val_accuracy: 0.8800\n",
            "Epoch 18/100\n",
            "22/22 [==============================] - 0s 4ms/step - loss: 0.3173 - accuracy: 0.8741 - val_loss: 0.3104 - val_accuracy: 0.8800\n",
            "Epoch 19/100\n",
            "22/22 [==============================] - 0s 4ms/step - loss: 0.3163 - accuracy: 0.8726 - val_loss: 0.3171 - val_accuracy: 0.8800\n",
            "Epoch 20/100\n",
            "22/22 [==============================] - 0s 4ms/step - loss: 0.3209 - accuracy: 0.8711 - val_loss: 0.3277 - val_accuracy: 0.8889\n",
            "Epoch 21/100\n",
            "22/22 [==============================] - 0s 4ms/step - loss: 0.3190 - accuracy: 0.8711 - val_loss: 0.3155 - val_accuracy: 0.8800\n",
            "Epoch 22/100\n",
            "22/22 [==============================] - 0s 4ms/step - loss: 0.3134 - accuracy: 0.8696 - val_loss: 0.3120 - val_accuracy: 0.8800\n",
            "Epoch 23/100\n",
            "22/22 [==============================] - 0s 4ms/step - loss: 0.3228 - accuracy: 0.8741 - val_loss: 0.3064 - val_accuracy: 0.8800\n",
            "Epoch 24/100\n",
            "22/22 [==============================] - 0s 4ms/step - loss: 0.3278 - accuracy: 0.8681 - val_loss: 0.3183 - val_accuracy: 0.8756\n",
            "Epoch 25/100\n",
            "22/22 [==============================] - 0s 4ms/step - loss: 0.3316 - accuracy: 0.8770 - val_loss: 0.3181 - val_accuracy: 0.8711\n",
            "Epoch 26/100\n",
            "22/22 [==============================] - 0s 4ms/step - loss: 0.3090 - accuracy: 0.8770 - val_loss: 0.3139 - val_accuracy: 0.8800\n",
            "Epoch 27/100\n",
            "22/22 [==============================] - 0s 4ms/step - loss: 0.3105 - accuracy: 0.8711 - val_loss: 0.3103 - val_accuracy: 0.8800\n",
            "Epoch 28/100\n",
            "22/22 [==============================] - 0s 5ms/step - loss: 0.3083 - accuracy: 0.8756 - val_loss: 0.3176 - val_accuracy: 0.8889\n",
            "Epoch 29/100\n",
            "22/22 [==============================] - 0s 4ms/step - loss: 0.3148 - accuracy: 0.8696 - val_loss: 0.3071 - val_accuracy: 0.8800\n",
            "Epoch 30/100\n",
            "22/22 [==============================] - 0s 4ms/step - loss: 0.3121 - accuracy: 0.8667 - val_loss: 0.3090 - val_accuracy: 0.8844\n",
            "Epoch 31/100\n",
            "22/22 [==============================] - 0s 4ms/step - loss: 0.3067 - accuracy: 0.8756 - val_loss: 0.3060 - val_accuracy: 0.8800\n",
            "Epoch 32/100\n",
            "22/22 [==============================] - 0s 4ms/step - loss: 0.3107 - accuracy: 0.8741 - val_loss: 0.3089 - val_accuracy: 0.8800\n",
            "Epoch 33/100\n",
            "22/22 [==============================] - 0s 4ms/step - loss: 0.2974 - accuracy: 0.8815 - val_loss: 0.3110 - val_accuracy: 0.8844\n",
            "Epoch 34/100\n",
            "22/22 [==============================] - 0s 5ms/step - loss: 0.3007 - accuracy: 0.8756 - val_loss: 0.3094 - val_accuracy: 0.8844\n",
            "Epoch 35/100\n",
            "22/22 [==============================] - 0s 4ms/step - loss: 0.2966 - accuracy: 0.8756 - val_loss: 0.3102 - val_accuracy: 0.8756\n",
            "Epoch 36/100\n",
            "22/22 [==============================] - 0s 5ms/step - loss: 0.2998 - accuracy: 0.8756 - val_loss: 0.3163 - val_accuracy: 0.8711\n",
            "Epoch 37/100\n",
            "22/22 [==============================] - 0s 4ms/step - loss: 0.2990 - accuracy: 0.8770 - val_loss: 0.3111 - val_accuracy: 0.8756\n",
            "Epoch 38/100\n",
            "22/22 [==============================] - 0s 4ms/step - loss: 0.3043 - accuracy: 0.8681 - val_loss: 0.3078 - val_accuracy: 0.8844\n",
            "Epoch 39/100\n",
            "22/22 [==============================] - 0s 4ms/step - loss: 0.3015 - accuracy: 0.8815 - val_loss: 0.3050 - val_accuracy: 0.8756\n",
            "Epoch 40/100\n",
            "22/22 [==============================] - 0s 4ms/step - loss: 0.2936 - accuracy: 0.8756 - val_loss: 0.3046 - val_accuracy: 0.8844\n",
            "Epoch 41/100\n",
            "22/22 [==============================] - 0s 3ms/step - loss: 0.2934 - accuracy: 0.8785 - val_loss: 0.3075 - val_accuracy: 0.8800\n",
            "Epoch 42/100\n",
            "22/22 [==============================] - 0s 4ms/step - loss: 0.3015 - accuracy: 0.8830 - val_loss: 0.3129 - val_accuracy: 0.8622\n",
            "Epoch 43/100\n",
            "22/22 [==============================] - 0s 4ms/step - loss: 0.3075 - accuracy: 0.8844 - val_loss: 0.3117 - val_accuracy: 0.8844\n",
            "Epoch 44/100\n",
            "22/22 [==============================] - 0s 4ms/step - loss: 0.2928 - accuracy: 0.8726 - val_loss: 0.3058 - val_accuracy: 0.8844\n",
            "Epoch 45/100\n",
            "22/22 [==============================] - 0s 3ms/step - loss: 0.2907 - accuracy: 0.8815 - val_loss: 0.3072 - val_accuracy: 0.8844\n",
            "Epoch 46/100\n",
            "22/22 [==============================] - 0s 4ms/step - loss: 0.2949 - accuracy: 0.8770 - val_loss: 0.3055 - val_accuracy: 0.8844\n",
            "Epoch 47/100\n",
            "22/22 [==============================] - 0s 4ms/step - loss: 0.3054 - accuracy: 0.8756 - val_loss: 0.3170 - val_accuracy: 0.8756\n",
            "Epoch 48/100\n",
            "22/22 [==============================] - 0s 4ms/step - loss: 0.3037 - accuracy: 0.8785 - val_loss: 0.3059 - val_accuracy: 0.8844\n",
            "Epoch 49/100\n",
            "22/22 [==============================] - 0s 4ms/step - loss: 0.3136 - accuracy: 0.8711 - val_loss: 0.3321 - val_accuracy: 0.8889\n",
            "Epoch 50/100\n",
            "22/22 [==============================] - 0s 13ms/step - loss: 0.2927 - accuracy: 0.8800 - val_loss: 0.3129 - val_accuracy: 0.8844\n",
            "Epoch 51/100\n",
            "22/22 [==============================] - 0s 4ms/step - loss: 0.2907 - accuracy: 0.8844 - val_loss: 0.3076 - val_accuracy: 0.8756\n",
            "Epoch 52/100\n",
            "22/22 [==============================] - 0s 3ms/step - loss: 0.3148 - accuracy: 0.8800 - val_loss: 0.3135 - val_accuracy: 0.8800\n",
            "Epoch 53/100\n",
            "22/22 [==============================] - 0s 4ms/step - loss: 0.3015 - accuracy: 0.8800 - val_loss: 0.3110 - val_accuracy: 0.8800\n",
            "Epoch 54/100\n",
            "22/22 [==============================] - 0s 4ms/step - loss: 0.2984 - accuracy: 0.8830 - val_loss: 0.3028 - val_accuracy: 0.8844\n",
            "Epoch 55/100\n",
            "22/22 [==============================] - 0s 4ms/step - loss: 0.2873 - accuracy: 0.8830 - val_loss: 0.3053 - val_accuracy: 0.8800\n",
            "Epoch 56/100\n",
            "22/22 [==============================] - 0s 4ms/step - loss: 0.2902 - accuracy: 0.8830 - val_loss: 0.3031 - val_accuracy: 0.8844\n",
            "Epoch 57/100\n",
            "22/22 [==============================] - 0s 4ms/step - loss: 0.2928 - accuracy: 0.8874 - val_loss: 0.3076 - val_accuracy: 0.8756\n",
            "Epoch 58/100\n",
            "22/22 [==============================] - 0s 4ms/step - loss: 0.2843 - accuracy: 0.8859 - val_loss: 0.3046 - val_accuracy: 0.8756\n",
            "Epoch 59/100\n",
            "22/22 [==============================] - 0s 4ms/step - loss: 0.3015 - accuracy: 0.8770 - val_loss: 0.3062 - val_accuracy: 0.8800\n",
            "Epoch 60/100\n",
            "22/22 [==============================] - 0s 4ms/step - loss: 0.2869 - accuracy: 0.8859 - val_loss: 0.3084 - val_accuracy: 0.8756\n",
            "Epoch 61/100\n",
            "22/22 [==============================] - 0s 4ms/step - loss: 0.2864 - accuracy: 0.8889 - val_loss: 0.3096 - val_accuracy: 0.8756\n",
            "Epoch 62/100\n",
            "22/22 [==============================] - 0s 4ms/step - loss: 0.2817 - accuracy: 0.8785 - val_loss: 0.3060 - val_accuracy: 0.8800\n",
            "Epoch 63/100\n",
            "22/22 [==============================] - 0s 4ms/step - loss: 0.2802 - accuracy: 0.8904 - val_loss: 0.3042 - val_accuracy: 0.8844\n",
            "Epoch 64/100\n",
            "22/22 [==============================] - 0s 4ms/step - loss: 0.2770 - accuracy: 0.8963 - val_loss: 0.3045 - val_accuracy: 0.8756\n",
            "Epoch 65/100\n",
            "22/22 [==============================] - 0s 4ms/step - loss: 0.2851 - accuracy: 0.8844 - val_loss: 0.3127 - val_accuracy: 0.8800\n",
            "Epoch 66/100\n",
            "22/22 [==============================] - 0s 4ms/step - loss: 0.2780 - accuracy: 0.8904 - val_loss: 0.3020 - val_accuracy: 0.8800\n",
            "Epoch 67/100\n",
            "22/22 [==============================] - 0s 4ms/step - loss: 0.2800 - accuracy: 0.8948 - val_loss: 0.3044 - val_accuracy: 0.8756\n",
            "Epoch 68/100\n",
            "22/22 [==============================] - 0s 3ms/step - loss: 0.2792 - accuracy: 0.8919 - val_loss: 0.3341 - val_accuracy: 0.8711\n",
            "Epoch 69/100\n",
            "22/22 [==============================] - 0s 4ms/step - loss: 0.2932 - accuracy: 0.8756 - val_loss: 0.3084 - val_accuracy: 0.8800\n",
            "Epoch 70/100\n",
            "22/22 [==============================] - 0s 4ms/step - loss: 0.2864 - accuracy: 0.8830 - val_loss: 0.3080 - val_accuracy: 0.8756\n",
            "Epoch 71/100\n",
            "22/22 [==============================] - 0s 4ms/step - loss: 0.2759 - accuracy: 0.8919 - val_loss: 0.3020 - val_accuracy: 0.8800\n",
            "Epoch 72/100\n",
            "22/22 [==============================] - 0s 3ms/step - loss: 0.2756 - accuracy: 0.8889 - val_loss: 0.3071 - val_accuracy: 0.8800\n",
            "Epoch 73/100\n",
            "22/22 [==============================] - 0s 4ms/step - loss: 0.2761 - accuracy: 0.8919 - val_loss: 0.3022 - val_accuracy: 0.8800\n",
            "Epoch 74/100\n",
            "22/22 [==============================] - 0s 4ms/step - loss: 0.2732 - accuracy: 0.8948 - val_loss: 0.3029 - val_accuracy: 0.8711\n",
            "Epoch 75/100\n",
            "22/22 [==============================] - 0s 4ms/step - loss: 0.2788 - accuracy: 0.8844 - val_loss: 0.3101 - val_accuracy: 0.8756\n",
            "Epoch 76/100\n",
            "22/22 [==============================] - 0s 4ms/step - loss: 0.2938 - accuracy: 0.8874 - val_loss: 0.3223 - val_accuracy: 0.8756\n",
            "Epoch 77/100\n",
            "22/22 [==============================] - 0s 4ms/step - loss: 0.2929 - accuracy: 0.8874 - val_loss: 0.3114 - val_accuracy: 0.8756\n",
            "Epoch 78/100\n",
            "22/22 [==============================] - 0s 4ms/step - loss: 0.2789 - accuracy: 0.8904 - val_loss: 0.3066 - val_accuracy: 0.8711\n",
            "Epoch 79/100\n",
            "22/22 [==============================] - 0s 4ms/step - loss: 0.2722 - accuracy: 0.8978 - val_loss: 0.3244 - val_accuracy: 0.8667\n",
            "Epoch 80/100\n",
            "22/22 [==============================] - 0s 5ms/step - loss: 0.2818 - accuracy: 0.8948 - val_loss: 0.3406 - val_accuracy: 0.8889\n",
            "Epoch 81/100\n",
            "22/22 [==============================] - 0s 4ms/step - loss: 0.2803 - accuracy: 0.8904 - val_loss: 0.3026 - val_accuracy: 0.8800\n",
            "Epoch 82/100\n",
            "22/22 [==============================] - 0s 4ms/step - loss: 0.2926 - accuracy: 0.8815 - val_loss: 0.3363 - val_accuracy: 0.8667\n",
            "Epoch 83/100\n",
            "22/22 [==============================] - 0s 4ms/step - loss: 0.2990 - accuracy: 0.8830 - val_loss: 0.3426 - val_accuracy: 0.8756\n",
            "Epoch 84/100\n",
            "22/22 [==============================] - 0s 4ms/step - loss: 0.2977 - accuracy: 0.8844 - val_loss: 0.3215 - val_accuracy: 0.8711\n",
            "Epoch 85/100\n",
            "22/22 [==============================] - 0s 4ms/step - loss: 0.2776 - accuracy: 0.8963 - val_loss: 0.3105 - val_accuracy: 0.8756\n",
            "Epoch 86/100\n",
            "22/22 [==============================] - 0s 4ms/step - loss: 0.2751 - accuracy: 0.8889 - val_loss: 0.3045 - val_accuracy: 0.8800\n",
            "Epoch 87/100\n",
            "22/22 [==============================] - 0s 4ms/step - loss: 0.2717 - accuracy: 0.8978 - val_loss: 0.3051 - val_accuracy: 0.8756\n",
            "Epoch 88/100\n",
            "22/22 [==============================] - 0s 4ms/step - loss: 0.2703 - accuracy: 0.8978 - val_loss: 0.3108 - val_accuracy: 0.8667\n",
            "Epoch 89/100\n",
            "22/22 [==============================] - 0s 4ms/step - loss: 0.2687 - accuracy: 0.8919 - val_loss: 0.3080 - val_accuracy: 0.8800\n",
            "Epoch 90/100\n",
            "22/22 [==============================] - 0s 7ms/step - loss: 0.2735 - accuracy: 0.8963 - val_loss: 0.2994 - val_accuracy: 0.8756\n",
            "Epoch 91/100\n",
            "22/22 [==============================] - 0s 6ms/step - loss: 0.2677 - accuracy: 0.8948 - val_loss: 0.3102 - val_accuracy: 0.8667\n",
            "Epoch 92/100\n",
            "22/22 [==============================] - 0s 6ms/step - loss: 0.2735 - accuracy: 0.8815 - val_loss: 0.3020 - val_accuracy: 0.8756\n",
            "Epoch 93/100\n",
            "22/22 [==============================] - 0s 6ms/step - loss: 0.2807 - accuracy: 0.8933 - val_loss: 0.3140 - val_accuracy: 0.8800\n",
            "Epoch 94/100\n",
            "22/22 [==============================] - 0s 6ms/step - loss: 0.2787 - accuracy: 0.8859 - val_loss: 0.3011 - val_accuracy: 0.8756\n",
            "Epoch 95/100\n",
            "22/22 [==============================] - 0s 5ms/step - loss: 0.2694 - accuracy: 0.8963 - val_loss: 0.2974 - val_accuracy: 0.8756\n",
            "Epoch 96/100\n",
            "22/22 [==============================] - 0s 5ms/step - loss: 0.2640 - accuracy: 0.9007 - val_loss: 0.3044 - val_accuracy: 0.8756\n",
            "Epoch 97/100\n",
            "22/22 [==============================] - 0s 6ms/step - loss: 0.2610 - accuracy: 0.8978 - val_loss: 0.3075 - val_accuracy: 0.8711\n",
            "Epoch 98/100\n",
            "22/22 [==============================] - 0s 7ms/step - loss: 0.2746 - accuracy: 0.9007 - val_loss: 0.3036 - val_accuracy: 0.8800\n",
            "Epoch 99/100\n",
            "22/22 [==============================] - 0s 6ms/step - loss: 0.2673 - accuracy: 0.8948 - val_loss: 0.3026 - val_accuracy: 0.8756\n",
            "Epoch 100/100\n",
            "22/22 [==============================] - 0s 5ms/step - loss: 0.2680 - accuracy: 0.8993 - val_loss: 0.3012 - val_accuracy: 0.8711\n"
          ]
        }
      ]
    },
    {
      "cell_type": "code",
      "source": [
        "model.summary()"
      ],
      "metadata": {
        "colab": {
          "base_uri": "https://localhost:8080/"
        },
        "id": "r8p3vzI-9iR6",
        "outputId": "45a45f8a-3d93-4aaa-d123-95775ac2f1f2"
      },
      "execution_count": 18,
      "outputs": [
        {
          "output_type": "stream",
          "name": "stdout",
          "text": [
            "Model: \"sequential_1\"\n",
            "_________________________________________________________________\n",
            " Layer (type)                Output Shape              Param #   \n",
            "=================================================================\n",
            " dense_4 (Dense)             (None, 128)               1024      \n",
            "                                                                 \n",
            " dense_5 (Dense)             (None, 64)                8256      \n",
            "                                                                 \n",
            " dense_6 (Dense)             (None, 32)                2080      \n",
            "                                                                 \n",
            " dense_7 (Dense)             (None, 16)                528       \n",
            "                                                                 \n",
            "=================================================================\n",
            "Total params: 11,888\n",
            "Trainable params: 11,888\n",
            "Non-trainable params: 0\n",
            "_________________________________________________________________\n"
          ]
        }
      ]
    },
    {
      "cell_type": "code",
      "source": [
        "model.evaluate(test_scaled, test_target)"
      ],
      "metadata": {
        "colab": {
          "base_uri": "https://localhost:8080/"
        },
        "id": "J66Ek1KN9k_W",
        "outputId": "0b72f427-3f2c-4ab9-ecba-1b0826a166b7"
      },
      "execution_count": 19,
      "outputs": [
        {
          "output_type": "stream",
          "name": "stdout",
          "text": [
            "8/8 [==============================] - 0s 6ms/step - loss: 0.3012 - accuracy: 0.8711\n"
          ]
        },
        {
          "output_type": "execute_result",
          "data": {
            "text/plain": [
              "[0.3012291193008423, 0.8711110949516296]"
            ]
          },
          "metadata": {},
          "execution_count": 19
        }
      ]
    },
    {
      "cell_type": "code",
      "source": [],
      "metadata": {
        "id": "GEfEy2oQ9nJp"
      },
      "execution_count": null,
      "outputs": []
    },
    {
      "cell_type": "code",
      "source": [],
      "metadata": {
        "id": "BdbtJ__j9-fX"
      },
      "execution_count": null,
      "outputs": []
    }
  ]
}