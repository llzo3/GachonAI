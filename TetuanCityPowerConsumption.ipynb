{
  "nbformat": 4,
  "nbformat_minor": 0,
  "metadata": {
    "colab": {
      "provenance": []
    },
    "kernelspec": {
      "name": "python3",
      "display_name": "Python 3"
    },
    "language_info": {
      "name": "python"
    }
  },
  "cells": [
    {
      "cell_type": "code",
      "source": [
        "import numpy as np\n",
        "import matplotlib.pyplot as plt\n",
        "import pandas as pd"
      ],
      "metadata": {
        "id": "5xOjrNSS7Yem"
      },
      "execution_count": 2,
      "outputs": []
    },
    {
      "cell_type": "code",
      "execution_count": 3,
      "metadata": {
        "id": "5fsT2rF86awy"
      },
      "outputs": [],
      "source": [
        "# from google.colab import drive\n",
        "# drive.mount('/content/drive')\n",
        "file_path = \"https://raw.githubusercontent.com/KnightChaser/ML-challenge/main/EX_challenging_problems/03_power_consumption_prediction/TetuanCityPowerConsumption.csv\"\n"
      ]
    },
    {
      "cell_type": "code",
      "source": [
        "data = pd.read_csv(file_path, index_col = 0)"
      ],
      "metadata": {
        "id": "QhYqj6XS7S8O"
      },
      "execution_count": 4,
      "outputs": []
    },
    {
      "cell_type": "code",
      "source": [
        "data.reset_index(inplace = True)\n",
        "print(data)"
      ],
      "metadata": {
        "colab": {
          "base_uri": "https://localhost:8080/"
        },
        "id": "yvzh1xJFUbc0",
        "outputId": "6f6d8f79-0423-4623-ddd3-9b7c7b867dde"
      },
      "execution_count": 5,
      "outputs": [
        {
          "output_type": "stream",
          "name": "stdout",
          "text": [
            "       Temperature  Humidity  Wind Speed  general diffuse flows  \\\n",
            "0            6.559      73.8       0.083                  0.051   \n",
            "1            6.414      74.5       0.083                  0.070   \n",
            "2            6.313      74.5       0.080                  0.062   \n",
            "3            6.121      75.0       0.083                  0.091   \n",
            "4            5.921      75.7       0.081                  0.048   \n",
            "...            ...       ...         ...                    ...   \n",
            "52411        7.010      72.4       0.080                  0.040   \n",
            "52412        6.947      72.6       0.082                  0.051   \n",
            "52413        6.900      72.8       0.086                  0.084   \n",
            "52414        6.758      73.0       0.080                  0.066   \n",
            "52415        6.580      74.1       0.081                  0.062   \n",
            "\n",
            "       diffuse flows  Zone 1 Power Consumption  \n",
            "0              0.119               34055.69620  \n",
            "1              0.085               29814.68354  \n",
            "2              0.100               29128.10127  \n",
            "3              0.096               28228.86076  \n",
            "4              0.085               27335.69620  \n",
            "...              ...                       ...  \n",
            "52411          0.096               31160.45627  \n",
            "52412          0.093               30430.41825  \n",
            "52413          0.074               29590.87452  \n",
            "52414          0.089               28958.17490  \n",
            "52415          0.111               28349.80989  \n",
            "\n",
            "[52416 rows x 6 columns]\n"
          ]
        }
      ]
    },
    {
      "cell_type": "code",
      "source": [
        "data.isna().sum()"
      ],
      "metadata": {
        "colab": {
          "base_uri": "https://localhost:8080/"
        },
        "id": "LnJpvM6hxGy2",
        "outputId": "c4281249-dd9d-430b-f779-60f00f3f838f"
      },
      "execution_count": 6,
      "outputs": [
        {
          "output_type": "execute_result",
          "data": {
            "text/plain": [
              "Temperature                 0\n",
              "Humidity                    0\n",
              "Wind Speed                  0\n",
              "general diffuse flows       0\n",
              "diffuse flows               0\n",
              "Zone 1 Power Consumption    0\n",
              "dtype: int64"
            ]
          },
          "metadata": {},
          "execution_count": 6
        }
      ]
    },
    {
      "cell_type": "code",
      "source": [
        "print(data.index)\n",
        "dt = data[[\"Temperature\", \"Humidity\", \"Wind Speed\", \"general diffuse flows\", \"diffuse flows\"]].to_numpy()"
      ],
      "metadata": {
        "colab": {
          "base_uri": "https://localhost:8080/"
        },
        "id": "2OatfZWrZJNE",
        "outputId": "1699b51e-578e-403d-d774-48bda1190fad"
      },
      "execution_count": 7,
      "outputs": [
        {
          "output_type": "stream",
          "name": "stdout",
          "text": [
            "RangeIndex(start=0, stop=52416, step=1)\n"
          ]
        }
      ]
    },
    {
      "cell_type": "code",
      "source": [
        "target = data[\"Zone 1 Power Consumption\"].to_numpy()"
      ],
      "metadata": {
        "id": "Gxn8BhYDW-Nj"
      },
      "execution_count": 8,
      "outputs": []
    },
    {
      "cell_type": "code",
      "source": [
        "from sklearn.model_selection import train_test_split\n",
        "train_input, test_input, train_target, test_target = train_test_split(dt, target)"
      ],
      "metadata": {
        "id": "afo4NZVdvXhD"
      },
      "execution_count": 9,
      "outputs": []
    },
    {
      "cell_type": "code",
      "source": [
        "from sklearn.preprocessing import StandardScaler\n",
        "\n",
        "ss = StandardScaler()\n",
        "ss.fit(train_input)\n",
        "\n",
        "train_scaled = ss.transform(train_input)\n",
        "test_scaled  = ss.transform(test_input)"
      ],
      "metadata": {
        "id": "pdfM-J2_vpxA"
      },
      "execution_count": 10,
      "outputs": []
    },
    {
      "cell_type": "code",
      "source": [
        "#LR\n",
        "from sklearn.linear_model import LinearRegression\n",
        "from sklearn.metrics import mean_squared_error\n",
        "lr = LinearRegression()\n",
        "lr.fit(train_scaled, train_target)"
      ],
      "metadata": {
        "colab": {
          "base_uri": "https://localhost:8080/",
          "height": 74
        },
        "id": "VV4uU5LGvyk6",
        "outputId": "3840aa91-850e-4312-e01c-241a5c9b7fb9"
      },
      "execution_count": 11,
      "outputs": [
        {
          "output_type": "execute_result",
          "data": {
            "text/plain": [
              "LinearRegression()"
            ],
            "text/html": [
              "<style>#sk-container-id-1 {color: black;background-color: white;}#sk-container-id-1 pre{padding: 0;}#sk-container-id-1 div.sk-toggleable {background-color: white;}#sk-container-id-1 label.sk-toggleable__label {cursor: pointer;display: block;width: 100%;margin-bottom: 0;padding: 0.3em;box-sizing: border-box;text-align: center;}#sk-container-id-1 label.sk-toggleable__label-arrow:before {content: \"▸\";float: left;margin-right: 0.25em;color: #696969;}#sk-container-id-1 label.sk-toggleable__label-arrow:hover:before {color: black;}#sk-container-id-1 div.sk-estimator:hover label.sk-toggleable__label-arrow:before {color: black;}#sk-container-id-1 div.sk-toggleable__content {max-height: 0;max-width: 0;overflow: hidden;text-align: left;background-color: #f0f8ff;}#sk-container-id-1 div.sk-toggleable__content pre {margin: 0.2em;color: black;border-radius: 0.25em;background-color: #f0f8ff;}#sk-container-id-1 input.sk-toggleable__control:checked~div.sk-toggleable__content {max-height: 200px;max-width: 100%;overflow: auto;}#sk-container-id-1 input.sk-toggleable__control:checked~label.sk-toggleable__label-arrow:before {content: \"▾\";}#sk-container-id-1 div.sk-estimator input.sk-toggleable__control:checked~label.sk-toggleable__label {background-color: #d4ebff;}#sk-container-id-1 div.sk-label input.sk-toggleable__control:checked~label.sk-toggleable__label {background-color: #d4ebff;}#sk-container-id-1 input.sk-hidden--visually {border: 0;clip: rect(1px 1px 1px 1px);clip: rect(1px, 1px, 1px, 1px);height: 1px;margin: -1px;overflow: hidden;padding: 0;position: absolute;width: 1px;}#sk-container-id-1 div.sk-estimator {font-family: monospace;background-color: #f0f8ff;border: 1px dotted black;border-radius: 0.25em;box-sizing: border-box;margin-bottom: 0.5em;}#sk-container-id-1 div.sk-estimator:hover {background-color: #d4ebff;}#sk-container-id-1 div.sk-parallel-item::after {content: \"\";width: 100%;border-bottom: 1px solid gray;flex-grow: 1;}#sk-container-id-1 div.sk-label:hover label.sk-toggleable__label {background-color: #d4ebff;}#sk-container-id-1 div.sk-serial::before {content: \"\";position: absolute;border-left: 1px solid gray;box-sizing: border-box;top: 0;bottom: 0;left: 50%;z-index: 0;}#sk-container-id-1 div.sk-serial {display: flex;flex-direction: column;align-items: center;background-color: white;padding-right: 0.2em;padding-left: 0.2em;position: relative;}#sk-container-id-1 div.sk-item {position: relative;z-index: 1;}#sk-container-id-1 div.sk-parallel {display: flex;align-items: stretch;justify-content: center;background-color: white;position: relative;}#sk-container-id-1 div.sk-item::before, #sk-container-id-1 div.sk-parallel-item::before {content: \"\";position: absolute;border-left: 1px solid gray;box-sizing: border-box;top: 0;bottom: 0;left: 50%;z-index: -1;}#sk-container-id-1 div.sk-parallel-item {display: flex;flex-direction: column;z-index: 1;position: relative;background-color: white;}#sk-container-id-1 div.sk-parallel-item:first-child::after {align-self: flex-end;width: 50%;}#sk-container-id-1 div.sk-parallel-item:last-child::after {align-self: flex-start;width: 50%;}#sk-container-id-1 div.sk-parallel-item:only-child::after {width: 0;}#sk-container-id-1 div.sk-dashed-wrapped {border: 1px dashed gray;margin: 0 0.4em 0.5em 0.4em;box-sizing: border-box;padding-bottom: 0.4em;background-color: white;}#sk-container-id-1 div.sk-label label {font-family: monospace;font-weight: bold;display: inline-block;line-height: 1.2em;}#sk-container-id-1 div.sk-label-container {text-align: center;}#sk-container-id-1 div.sk-container {/* jupyter's `normalize.less` sets `[hidden] { display: none; }` but bootstrap.min.css set `[hidden] { display: none !important; }` so we also need the `!important` here to be able to override the default hidden behavior on the sphinx rendered scikit-learn.org. See: https://github.com/scikit-learn/scikit-learn/issues/21755 */display: inline-block !important;position: relative;}#sk-container-id-1 div.sk-text-repr-fallback {display: none;}</style><div id=\"sk-container-id-1\" class=\"sk-top-container\"><div class=\"sk-text-repr-fallback\"><pre>LinearRegression()</pre><b>In a Jupyter environment, please rerun this cell to show the HTML representation or trust the notebook. <br />On GitHub, the HTML representation is unable to render, please try loading this page with nbviewer.org.</b></div><div class=\"sk-container\" hidden><div class=\"sk-item\"><div class=\"sk-estimator sk-toggleable\"><input class=\"sk-toggleable__control sk-hidden--visually\" id=\"sk-estimator-id-1\" type=\"checkbox\" checked><label for=\"sk-estimator-id-1\" class=\"sk-toggleable__label sk-toggleable__label-arrow\">LinearRegression</label><div class=\"sk-toggleable__content\"><pre>LinearRegression()</pre></div></div></div></div></div>"
            ]
          },
          "metadata": {},
          "execution_count": 11
        }
      ]
    },
    {
      "cell_type": "code",
      "source": [
        "lr_prd = lr.predict(test_scaled)\n",
        "print(lr_prd)"
      ],
      "metadata": {
        "colab": {
          "base_uri": "https://localhost:8080/"
        },
        "id": "79TimEnQleO0",
        "outputId": "dbe0cf41-b8e7-434c-a2eb-1005ae2738a3"
      },
      "execution_count": 12,
      "outputs": [
        {
          "output_type": "stream",
          "name": "stdout",
          "text": [
            "[36611.70291618 29262.99676291 36796.72918846 ... 31038.01558923\n",
            " 29533.58246801 33838.26343494]\n"
          ]
        }
      ]
    },
    {
      "cell_type": "code",
      "source": [
        "from sklearn.metrics import mean_squared_error\n",
        "from sklearn.metrics import mean_squared_log_error\n",
        "\n",
        "print(mean_squared_error(lr_prd, test_target))#MSE\n",
        "print({mean_squared_error(lr_prd, test_target) ** 0.5})#RMSE\n",
        "print({mean_squared_log_error(lr_prd, test_target) ** 0.5})#RMSLE"
      ],
      "metadata": {
        "colab": {
          "base_uri": "https://localhost:8080/"
        },
        "id": "1tJ0gLRrmPNU",
        "outputId": "05df70c1-4b25-481d-f75a-7d36d9195f8a"
      },
      "execution_count": 15,
      "outputs": [
        {
          "output_type": "stream",
          "name": "stdout",
          "text": [
            "40926649.30204073\n",
            "{6397.393946134686}\n",
            "{0.20027102660403534}\n"
          ]
        }
      ]
    },
    {
      "cell_type": "code",
      "source": [
        "# SVR\n",
        "from sklearn.svm import SVR\n",
        "\n",
        "svr = SVR()\n",
        "svr.fit(train_scaled, train_target)\n",
        "dy_prd = svr.predict(test_scaled)\n",
        "\n",
        "print(mean_squared_error(dy_prd, test_target))#MSE\n",
        "print({mean_squared_error(dy_prd, test_target) ** 0.5})#RMSE\n",
        "print({mean_squared_log_error(dy_prd, test_target) ** 0.5})#RMSLE\n",
        "print(svr.score(test_scaled, test_target))#R^2"
      ],
      "metadata": {
        "colab": {
          "base_uri": "https://localhost:8080/"
        },
        "id": "5sEfJ2K_6isE",
        "outputId": "dc32251b-0665-4169-bbfc-7bf026a1b2bf"
      },
      "execution_count": 18,
      "outputs": [
        {
          "output_type": "stream",
          "name": "stdout",
          "text": [
            "45601883.22978295\n",
            "{6752.916646145052}\n",
            "{0.20998994858711115}\n",
            "0.10249302575898667\n"
          ]
        }
      ]
    },
    {
      "cell_type": "code",
      "source": [
        "#DTR\n",
        "from sklearn.tree import DecisionTreeRegressor\n",
        "dtr = DecisionTreeRegressor()\n",
        "dtr.fit(train_scaled, train_target)\n",
        "dtr_prd = dtr.predict(test_scaled)\n",
        "print(mean_squared_error(dtr_prd, test_target))#MSE\n",
        "print({mean_squared_error(dtr_prd, test_target) ** 0.5})#RMSE\n",
        "print({mean_squared_log_error(dtr_prd, test_target) ** 0.5})#RMSLE\n",
        "print(dtr.score(test_scaled, test_target))#R^2"
      ],
      "metadata": {
        "colab": {
          "base_uri": "https://localhost:8080/"
        },
        "id": "LVcqPLnp_ROF",
        "outputId": "bb7bc582-1940-412b-8dbe-021ebd49dc9e"
      },
      "execution_count": 20,
      "outputs": [
        {
          "output_type": "stream",
          "name": "stdout",
          "text": [
            "42909219.23678831\n",
            "{6550.512898757494}\n",
            "{0.20627766752545038}\n",
            "0.15548830888847776\n"
          ]
        }
      ]
    },
    {
      "cell_type": "code",
      "source": [
        "# RF\n",
        "from sklearn.ensemble import RandomForestRegressor\n",
        "rf = RandomForestRegressor()\n",
        "rf.fit(train_scaled,train_target)\n",
        "\n",
        "ry_prd = rf.predict(test_scaled)\n",
        "print(mean_squared_error(ry_prd, test_target))#MSE\n",
        "print({mean_squared_error(ry_prd, test_target) ** 0.5})#RMSE\n",
        "print({mean_squared_log_error(ry_prd, test_target) ** 0.5})#RMSLE\n",
        "print(rf.score(test_scaled, test_target))#R^2"
      ],
      "metadata": {
        "colab": {
          "base_uri": "https://localhost:8080/"
        },
        "id": "BIL43pWlwNn7",
        "outputId": "753d7b80-111b-43e6-bc15-0b1693e51ee3"
      },
      "execution_count": 19,
      "outputs": [
        {
          "output_type": "stream",
          "name": "stdout",
          "text": [
            "22269860.397868168\n",
            "{4719.095294425423}\n",
            "{0.14975788558918787}\n",
            "0.5616989122631995\n"
          ]
        }
      ]
    },
    {
      "cell_type": "code",
      "source": [],
      "metadata": {
        "id": "FuFwWfAq_MtE"
      },
      "execution_count": null,
      "outputs": []
    }
  ]
}