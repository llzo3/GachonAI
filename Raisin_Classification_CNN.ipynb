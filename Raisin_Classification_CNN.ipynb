{
  "nbformat": 4,
  "nbformat_minor": 0,
  "metadata": {
    "colab": {
      "provenance": []
    },
    "kernelspec": {
      "name": "python3",
      "display_name": "Python 3"
    },
    "language_info": {
      "name": "python"
    }
  },
  "cells": [
    {
      "cell_type": "code",
      "source": [
        "import numpy as np\n",
        "import matplotlib.pyplot as plt\n",
        "import pandas as pd"
      ],
      "metadata": {
        "id": "gU7X0c107SLc"
      },
      "execution_count": 39,
      "outputs": []
    },
    {
      "cell_type": "code",
      "execution_count": 40,
      "metadata": {
        "colab": {
          "base_uri": "https://localhost:8080/"
        },
        "id": "coWUEZxY0D3Y",
        "outputId": "eb661414-99c0-4ff3-de79-d3db5e90376a"
      },
      "outputs": [
        {
          "output_type": "stream",
          "name": "stdout",
          "text": [
            "Drive already mounted at /content/drive; to attempt to forcibly remount, call drive.mount(\"/content/drive\", force_remount=True).\n"
          ]
        }
      ],
      "source": [
        "from google.colab import drive\n",
        "drive.mount('/content/drive')\n",
        "file_path = \"/content/drive/MyDrive/Raisin_Dataset.csv\"\n",
        "raisin = pd.read_csv(file_path, index_col = 0)\n",
        "\n",
        "#https://drive.google.com/file/d/150CDxb8kz9vXdc526d1_GAIoL9MbrsQR/view?usp=sharing"
      ]
    },
    {
      "cell_type": "code",
      "source": [
        "raisin.head()"
      ],
      "metadata": {
        "colab": {
          "base_uri": "https://localhost:8080/",
          "height": 237
        },
        "id": "U4VLRZwP74PC",
        "outputId": "78f5c673-99d9-45ad-d819-308d6ac35d59"
      },
      "execution_count": 41,
      "outputs": [
        {
          "output_type": "execute_result",
          "data": {
            "text/plain": [
              "       MajorAxisLength  MinorAxisLength  Eccentricity  ConvexArea    Extent  \\\n",
              "Area                                                                          \n",
              "87524       442.246011       253.291155      0.819738       90546  0.758651   \n",
              "75166       406.690687       243.032436      0.801805       78789  0.684130   \n",
              "90856       442.267048       266.328318      0.798354       93717  0.637613   \n",
              "45928       286.540559       208.760042      0.684989       47336  0.699599   \n",
              "79408       352.190770       290.827533      0.564011       81463  0.792772   \n",
              "\n",
              "       Perimeter    Class  \n",
              "Area                       \n",
              "87524   1184.040  Kecimen  \n",
              "75166   1121.786  Kecimen  \n",
              "90856   1208.575  Kecimen  \n",
              "45928    844.162  Kecimen  \n",
              "79408   1073.251  Kecimen  "
            ],
            "text/html": [
              "\n",
              "  <div id=\"df-9bec9e2b-1b4e-4d75-ac04-e0e7d58e245a\">\n",
              "    <div class=\"colab-df-container\">\n",
              "      <div>\n",
              "<style scoped>\n",
              "    .dataframe tbody tr th:only-of-type {\n",
              "        vertical-align: middle;\n",
              "    }\n",
              "\n",
              "    .dataframe tbody tr th {\n",
              "        vertical-align: top;\n",
              "    }\n",
              "\n",
              "    .dataframe thead th {\n",
              "        text-align: right;\n",
              "    }\n",
              "</style>\n",
              "<table border=\"1\" class=\"dataframe\">\n",
              "  <thead>\n",
              "    <tr style=\"text-align: right;\">\n",
              "      <th></th>\n",
              "      <th>MajorAxisLength</th>\n",
              "      <th>MinorAxisLength</th>\n",
              "      <th>Eccentricity</th>\n",
              "      <th>ConvexArea</th>\n",
              "      <th>Extent</th>\n",
              "      <th>Perimeter</th>\n",
              "      <th>Class</th>\n",
              "    </tr>\n",
              "    <tr>\n",
              "      <th>Area</th>\n",
              "      <th></th>\n",
              "      <th></th>\n",
              "      <th></th>\n",
              "      <th></th>\n",
              "      <th></th>\n",
              "      <th></th>\n",
              "      <th></th>\n",
              "    </tr>\n",
              "  </thead>\n",
              "  <tbody>\n",
              "    <tr>\n",
              "      <th>87524</th>\n",
              "      <td>442.246011</td>\n",
              "      <td>253.291155</td>\n",
              "      <td>0.819738</td>\n",
              "      <td>90546</td>\n",
              "      <td>0.758651</td>\n",
              "      <td>1184.040</td>\n",
              "      <td>Kecimen</td>\n",
              "    </tr>\n",
              "    <tr>\n",
              "      <th>75166</th>\n",
              "      <td>406.690687</td>\n",
              "      <td>243.032436</td>\n",
              "      <td>0.801805</td>\n",
              "      <td>78789</td>\n",
              "      <td>0.684130</td>\n",
              "      <td>1121.786</td>\n",
              "      <td>Kecimen</td>\n",
              "    </tr>\n",
              "    <tr>\n",
              "      <th>90856</th>\n",
              "      <td>442.267048</td>\n",
              "      <td>266.328318</td>\n",
              "      <td>0.798354</td>\n",
              "      <td>93717</td>\n",
              "      <td>0.637613</td>\n",
              "      <td>1208.575</td>\n",
              "      <td>Kecimen</td>\n",
              "    </tr>\n",
              "    <tr>\n",
              "      <th>45928</th>\n",
              "      <td>286.540559</td>\n",
              "      <td>208.760042</td>\n",
              "      <td>0.684989</td>\n",
              "      <td>47336</td>\n",
              "      <td>0.699599</td>\n",
              "      <td>844.162</td>\n",
              "      <td>Kecimen</td>\n",
              "    </tr>\n",
              "    <tr>\n",
              "      <th>79408</th>\n",
              "      <td>352.190770</td>\n",
              "      <td>290.827533</td>\n",
              "      <td>0.564011</td>\n",
              "      <td>81463</td>\n",
              "      <td>0.792772</td>\n",
              "      <td>1073.251</td>\n",
              "      <td>Kecimen</td>\n",
              "    </tr>\n",
              "  </tbody>\n",
              "</table>\n",
              "</div>\n",
              "      <button class=\"colab-df-convert\" onclick=\"convertToInteractive('df-9bec9e2b-1b4e-4d75-ac04-e0e7d58e245a')\"\n",
              "              title=\"Convert this dataframe to an interactive table.\"\n",
              "              style=\"display:none;\">\n",
              "        \n",
              "  <svg xmlns=\"http://www.w3.org/2000/svg\" height=\"24px\"viewBox=\"0 0 24 24\"\n",
              "       width=\"24px\">\n",
              "    <path d=\"M0 0h24v24H0V0z\" fill=\"none\"/>\n",
              "    <path d=\"M18.56 5.44l.94 2.06.94-2.06 2.06-.94-2.06-.94-.94-2.06-.94 2.06-2.06.94zm-11 1L8.5 8.5l.94-2.06 2.06-.94-2.06-.94L8.5 2.5l-.94 2.06-2.06.94zm10 10l.94 2.06.94-2.06 2.06-.94-2.06-.94-.94-2.06-.94 2.06-2.06.94z\"/><path d=\"M17.41 7.96l-1.37-1.37c-.4-.4-.92-.59-1.43-.59-.52 0-1.04.2-1.43.59L10.3 9.45l-7.72 7.72c-.78.78-.78 2.05 0 2.83L4 21.41c.39.39.9.59 1.41.59.51 0 1.02-.2 1.41-.59l7.78-7.78 2.81-2.81c.8-.78.8-2.07 0-2.86zM5.41 20L4 18.59l7.72-7.72 1.47 1.35L5.41 20z\"/>\n",
              "  </svg>\n",
              "      </button>\n",
              "      \n",
              "  <style>\n",
              "    .colab-df-container {\n",
              "      display:flex;\n",
              "      flex-wrap:wrap;\n",
              "      gap: 12px;\n",
              "    }\n",
              "\n",
              "    .colab-df-convert {\n",
              "      background-color: #E8F0FE;\n",
              "      border: none;\n",
              "      border-radius: 50%;\n",
              "      cursor: pointer;\n",
              "      display: none;\n",
              "      fill: #1967D2;\n",
              "      height: 32px;\n",
              "      padding: 0 0 0 0;\n",
              "      width: 32px;\n",
              "    }\n",
              "\n",
              "    .colab-df-convert:hover {\n",
              "      background-color: #E2EBFA;\n",
              "      box-shadow: 0px 1px 2px rgba(60, 64, 67, 0.3), 0px 1px 3px 1px rgba(60, 64, 67, 0.15);\n",
              "      fill: #174EA6;\n",
              "    }\n",
              "\n",
              "    [theme=dark] .colab-df-convert {\n",
              "      background-color: #3B4455;\n",
              "      fill: #D2E3FC;\n",
              "    }\n",
              "\n",
              "    [theme=dark] .colab-df-convert:hover {\n",
              "      background-color: #434B5C;\n",
              "      box-shadow: 0px 1px 3px 1px rgba(0, 0, 0, 0.15);\n",
              "      filter: drop-shadow(0px 1px 2px rgba(0, 0, 0, 0.3));\n",
              "      fill: #FFFFFF;\n",
              "    }\n",
              "  </style>\n",
              "\n",
              "      <script>\n",
              "        const buttonEl =\n",
              "          document.querySelector('#df-9bec9e2b-1b4e-4d75-ac04-e0e7d58e245a button.colab-df-convert');\n",
              "        buttonEl.style.display =\n",
              "          google.colab.kernel.accessAllowed ? 'block' : 'none';\n",
              "\n",
              "        async function convertToInteractive(key) {\n",
              "          const element = document.querySelector('#df-9bec9e2b-1b4e-4d75-ac04-e0e7d58e245a');\n",
              "          const dataTable =\n",
              "            await google.colab.kernel.invokeFunction('convertToInteractive',\n",
              "                                                     [key], {});\n",
              "          if (!dataTable) return;\n",
              "\n",
              "          const docLinkHtml = 'Like what you see? Visit the ' +\n",
              "            '<a target=\"_blank\" href=https://colab.research.google.com/notebooks/data_table.ipynb>data table notebook</a>'\n",
              "            + ' to learn more about interactive tables.';\n",
              "          element.innerHTML = '';\n",
              "          dataTable['output_type'] = 'display_data';\n",
              "          await google.colab.output.renderOutput(dataTable, element);\n",
              "          const docLink = document.createElement('div');\n",
              "          docLink.innerHTML = docLinkHtml;\n",
              "          element.appendChild(docLink);\n",
              "        }\n",
              "      </script>\n",
              "    </div>\n",
              "  </div>\n",
              "  "
            ]
          },
          "metadata": {},
          "execution_count": 41
        }
      ]
    },
    {
      "cell_type": "code",
      "source": [
        "raisin.reset_index(inplace = True)\n",
        "raisin.head()"
      ],
      "metadata": {
        "colab": {
          "base_uri": "https://localhost:8080/",
          "height": 206
        },
        "id": "5PbJCEir77MU",
        "outputId": "1b1c4267-30cf-4d84-cc0d-68e48f556c01"
      },
      "execution_count": 42,
      "outputs": [
        {
          "output_type": "execute_result",
          "data": {
            "text/plain": [
              "    Area  MajorAxisLength  MinorAxisLength  Eccentricity  ConvexArea  \\\n",
              "0  87524       442.246011       253.291155      0.819738       90546   \n",
              "1  75166       406.690687       243.032436      0.801805       78789   \n",
              "2  90856       442.267048       266.328318      0.798354       93717   \n",
              "3  45928       286.540559       208.760042      0.684989       47336   \n",
              "4  79408       352.190770       290.827533      0.564011       81463   \n",
              "\n",
              "     Extent  Perimeter    Class  \n",
              "0  0.758651   1184.040  Kecimen  \n",
              "1  0.684130   1121.786  Kecimen  \n",
              "2  0.637613   1208.575  Kecimen  \n",
              "3  0.699599    844.162  Kecimen  \n",
              "4  0.792772   1073.251  Kecimen  "
            ],
            "text/html": [
              "\n",
              "  <div id=\"df-ba7542bd-45a9-4233-8c18-eab69c89fe62\">\n",
              "    <div class=\"colab-df-container\">\n",
              "      <div>\n",
              "<style scoped>\n",
              "    .dataframe tbody tr th:only-of-type {\n",
              "        vertical-align: middle;\n",
              "    }\n",
              "\n",
              "    .dataframe tbody tr th {\n",
              "        vertical-align: top;\n",
              "    }\n",
              "\n",
              "    .dataframe thead th {\n",
              "        text-align: right;\n",
              "    }\n",
              "</style>\n",
              "<table border=\"1\" class=\"dataframe\">\n",
              "  <thead>\n",
              "    <tr style=\"text-align: right;\">\n",
              "      <th></th>\n",
              "      <th>Area</th>\n",
              "      <th>MajorAxisLength</th>\n",
              "      <th>MinorAxisLength</th>\n",
              "      <th>Eccentricity</th>\n",
              "      <th>ConvexArea</th>\n",
              "      <th>Extent</th>\n",
              "      <th>Perimeter</th>\n",
              "      <th>Class</th>\n",
              "    </tr>\n",
              "  </thead>\n",
              "  <tbody>\n",
              "    <tr>\n",
              "      <th>0</th>\n",
              "      <td>87524</td>\n",
              "      <td>442.246011</td>\n",
              "      <td>253.291155</td>\n",
              "      <td>0.819738</td>\n",
              "      <td>90546</td>\n",
              "      <td>0.758651</td>\n",
              "      <td>1184.040</td>\n",
              "      <td>Kecimen</td>\n",
              "    </tr>\n",
              "    <tr>\n",
              "      <th>1</th>\n",
              "      <td>75166</td>\n",
              "      <td>406.690687</td>\n",
              "      <td>243.032436</td>\n",
              "      <td>0.801805</td>\n",
              "      <td>78789</td>\n",
              "      <td>0.684130</td>\n",
              "      <td>1121.786</td>\n",
              "      <td>Kecimen</td>\n",
              "    </tr>\n",
              "    <tr>\n",
              "      <th>2</th>\n",
              "      <td>90856</td>\n",
              "      <td>442.267048</td>\n",
              "      <td>266.328318</td>\n",
              "      <td>0.798354</td>\n",
              "      <td>93717</td>\n",
              "      <td>0.637613</td>\n",
              "      <td>1208.575</td>\n",
              "      <td>Kecimen</td>\n",
              "    </tr>\n",
              "    <tr>\n",
              "      <th>3</th>\n",
              "      <td>45928</td>\n",
              "      <td>286.540559</td>\n",
              "      <td>208.760042</td>\n",
              "      <td>0.684989</td>\n",
              "      <td>47336</td>\n",
              "      <td>0.699599</td>\n",
              "      <td>844.162</td>\n",
              "      <td>Kecimen</td>\n",
              "    </tr>\n",
              "    <tr>\n",
              "      <th>4</th>\n",
              "      <td>79408</td>\n",
              "      <td>352.190770</td>\n",
              "      <td>290.827533</td>\n",
              "      <td>0.564011</td>\n",
              "      <td>81463</td>\n",
              "      <td>0.792772</td>\n",
              "      <td>1073.251</td>\n",
              "      <td>Kecimen</td>\n",
              "    </tr>\n",
              "  </tbody>\n",
              "</table>\n",
              "</div>\n",
              "      <button class=\"colab-df-convert\" onclick=\"convertToInteractive('df-ba7542bd-45a9-4233-8c18-eab69c89fe62')\"\n",
              "              title=\"Convert this dataframe to an interactive table.\"\n",
              "              style=\"display:none;\">\n",
              "        \n",
              "  <svg xmlns=\"http://www.w3.org/2000/svg\" height=\"24px\"viewBox=\"0 0 24 24\"\n",
              "       width=\"24px\">\n",
              "    <path d=\"M0 0h24v24H0V0z\" fill=\"none\"/>\n",
              "    <path d=\"M18.56 5.44l.94 2.06.94-2.06 2.06-.94-2.06-.94-.94-2.06-.94 2.06-2.06.94zm-11 1L8.5 8.5l.94-2.06 2.06-.94-2.06-.94L8.5 2.5l-.94 2.06-2.06.94zm10 10l.94 2.06.94-2.06 2.06-.94-2.06-.94-.94-2.06-.94 2.06-2.06.94z\"/><path d=\"M17.41 7.96l-1.37-1.37c-.4-.4-.92-.59-1.43-.59-.52 0-1.04.2-1.43.59L10.3 9.45l-7.72 7.72c-.78.78-.78 2.05 0 2.83L4 21.41c.39.39.9.59 1.41.59.51 0 1.02-.2 1.41-.59l7.78-7.78 2.81-2.81c.8-.78.8-2.07 0-2.86zM5.41 20L4 18.59l7.72-7.72 1.47 1.35L5.41 20z\"/>\n",
              "  </svg>\n",
              "      </button>\n",
              "      \n",
              "  <style>\n",
              "    .colab-df-container {\n",
              "      display:flex;\n",
              "      flex-wrap:wrap;\n",
              "      gap: 12px;\n",
              "    }\n",
              "\n",
              "    .colab-df-convert {\n",
              "      background-color: #E8F0FE;\n",
              "      border: none;\n",
              "      border-radius: 50%;\n",
              "      cursor: pointer;\n",
              "      display: none;\n",
              "      fill: #1967D2;\n",
              "      height: 32px;\n",
              "      padding: 0 0 0 0;\n",
              "      width: 32px;\n",
              "    }\n",
              "\n",
              "    .colab-df-convert:hover {\n",
              "      background-color: #E2EBFA;\n",
              "      box-shadow: 0px 1px 2px rgba(60, 64, 67, 0.3), 0px 1px 3px 1px rgba(60, 64, 67, 0.15);\n",
              "      fill: #174EA6;\n",
              "    }\n",
              "\n",
              "    [theme=dark] .colab-df-convert {\n",
              "      background-color: #3B4455;\n",
              "      fill: #D2E3FC;\n",
              "    }\n",
              "\n",
              "    [theme=dark] .colab-df-convert:hover {\n",
              "      background-color: #434B5C;\n",
              "      box-shadow: 0px 1px 3px 1px rgba(0, 0, 0, 0.15);\n",
              "      filter: drop-shadow(0px 1px 2px rgba(0, 0, 0, 0.3));\n",
              "      fill: #FFFFFF;\n",
              "    }\n",
              "  </style>\n",
              "\n",
              "      <script>\n",
              "        const buttonEl =\n",
              "          document.querySelector('#df-ba7542bd-45a9-4233-8c18-eab69c89fe62 button.colab-df-convert');\n",
              "        buttonEl.style.display =\n",
              "          google.colab.kernel.accessAllowed ? 'block' : 'none';\n",
              "\n",
              "        async function convertToInteractive(key) {\n",
              "          const element = document.querySelector('#df-ba7542bd-45a9-4233-8c18-eab69c89fe62');\n",
              "          const dataTable =\n",
              "            await google.colab.kernel.invokeFunction('convertToInteractive',\n",
              "                                                     [key], {});\n",
              "          if (!dataTable) return;\n",
              "\n",
              "          const docLinkHtml = 'Like what you see? Visit the ' +\n",
              "            '<a target=\"_blank\" href=https://colab.research.google.com/notebooks/data_table.ipynb>data table notebook</a>'\n",
              "            + ' to learn more about interactive tables.';\n",
              "          element.innerHTML = '';\n",
              "          dataTable['output_type'] = 'display_data';\n",
              "          await google.colab.output.renderOutput(dataTable, element);\n",
              "          const docLink = document.createElement('div');\n",
              "          docLink.innerHTML = docLinkHtml;\n",
              "          element.appendChild(docLink);\n",
              "        }\n",
              "      </script>\n",
              "    </div>\n",
              "  </div>\n",
              "  "
            ]
          },
          "metadata": {},
          "execution_count": 42
        }
      ]
    },
    {
      "cell_type": "code",
      "source": [
        "raisin['Class'] = raisin['Class'].replace({'Kecimen': 1, 'Besni': 0})\n",
        "\n",
        "print(raisin['Class'])"
      ],
      "metadata": {
        "colab": {
          "base_uri": "https://localhost:8080/"
        },
        "id": "GVQmqX9n8Bmk",
        "outputId": "b569224e-db8a-486e-b53e-a1e634f90084"
      },
      "execution_count": 43,
      "outputs": [
        {
          "output_type": "stream",
          "name": "stdout",
          "text": [
            "0      1\n",
            "1      1\n",
            "2      1\n",
            "3      1\n",
            "4      1\n",
            "      ..\n",
            "895    0\n",
            "896    0\n",
            "897    0\n",
            "898    0\n",
            "899    0\n",
            "Name: Class, Length: 900, dtype: int64\n"
          ]
        }
      ]
    },
    {
      "cell_type": "code",
      "source": [
        "raisin_input  = raisin[[\"Area\", \"MajorAxisLength\", \"MinorAxisLength\", \"Eccentricity\", \"ConvexArea\", \"Extent\", \"Perimeter\"]].to_numpy()\n",
        "raisin_target = raisin[\"Class\"].to_numpy()"
      ],
      "metadata": {
        "id": "z1fbNymy8KrA"
      },
      "execution_count": 44,
      "outputs": []
    },
    {
      "cell_type": "code",
      "source": [
        "from sklearn.model_selection import train_test_split\n",
        "from sklearn.preprocessing import StandardScaler\n",
        "\n",
        "train_input, test_input, train_target, test_target = train_test_split(raisin_input, raisin_target, test_size = 0.25)\n",
        "\n",
        "ss = StandardScaler()\n",
        "ss.fit(train_input)\n",
        "\n",
        "train_scaled = ss.transform(train_input)\n",
        "test_scaled  = ss.transform(test_input)"
      ],
      "metadata": {
        "id": "zvz4ODJ98Tof"
      },
      "execution_count": 45,
      "outputs": []
    },
    {
      "cell_type": "code",
      "source": [
        "print(test_target)"
      ],
      "metadata": {
        "colab": {
          "base_uri": "https://localhost:8080/"
        },
        "id": "rIdf8_fCQPzi",
        "outputId": "6bc824d4-3916-4f7a-c017-49b28aff6722"
      },
      "execution_count": 48,
      "outputs": [
        {
          "output_type": "stream",
          "name": "stdout",
          "text": [
            "[0 1 1 0 1 1 0 1 1 1 1 0 0 0 0 1 1 1 0 0 0 1 0 1 1 0 0 0 1 0 0 0 0 1 0 1 0\n",
            " 0 1 1 0 0 1 0 0 1 1 0 0 0 0 0 0 1 1 1 0 0 1 1 0 0 0 1 0 0 0 1 1 1 0 1 1 0\n",
            " 0 1 1 1 0 0 1 1 0 0 0 1 1 1 0 0 0 0 0 0 0 1 0 1 0 1 0 0 1 1 0 0 0 1 0 0 0\n",
            " 0 1 0 0 1 1 0 1 1 0 1 1 0 0 1 0 1 1 1 0 1 0 1 0 0 0 1 1 1 0 0 1 1 1 1 1 0\n",
            " 0 0 0 1 0 1 0 1 0 0 0 0 1 0 0 0 1 0 0 0 1 0 0 1 1 1 0 1 1 0 0 1 1 1 1 1 0\n",
            " 1 1 1 0 1 1 1 1 1 0 0 0 1 1 0 0 0 1 0 0 1 1 1 1 0 0 1 1 1 1 0 0 0 0 1 0 1\n",
            " 0 0 1]\n"
          ]
        }
      ]
    },
    {
      "cell_type": "code",
      "source": [
        "print(train_target)"
      ],
      "metadata": {
        "colab": {
          "base_uri": "https://localhost:8080/"
        },
        "id": "vrDII9DMQUtc",
        "outputId": "904896d4-53cb-4fcc-97b0-1ed3bfc6efbc"
      },
      "execution_count": 49,
      "outputs": [
        {
          "output_type": "stream",
          "name": "stdout",
          "text": [
            "[1 1 1 0 0 1 1 1 0 1 0 1 1 1 1 1 0 1 1 1 1 1 1 0 0 1 1 0 1 0 0 0 1 0 0 0 1\n",
            " 1 0 0 0 1 1 1 0 1 0 1 1 0 0 0 0 0 0 1 1 0 0 0 1 0 1 0 0 0 1 0 0 0 1 1 1 0\n",
            " 1 1 1 1 1 1 0 1 1 0 0 1 1 1 0 1 1 0 1 0 0 1 0 1 1 0 1 0 0 0 0 0 1 1 1 1 0\n",
            " 1 0 1 0 0 0 1 1 0 0 1 1 0 0 0 0 1 0 0 1 0 0 1 1 1 0 0 1 1 1 1 1 0 0 1 1 0\n",
            " 1 1 0 1 1 1 0 0 1 0 1 0 0 1 1 0 0 1 0 0 0 1 1 1 0 0 1 1 1 1 1 0 1 1 0 1 0\n",
            " 0 0 1 0 0 0 1 0 0 1 0 1 1 0 1 1 1 0 1 0 1 1 1 1 1 0 0 0 0 1 0 1 1 0 0 1 0\n",
            " 0 0 0 1 1 1 1 1 0 0 0 1 0 1 0 0 1 0 1 1 0 0 1 0 0 1 0 0 1 0 1 1 1 0 1 0 0\n",
            " 0 1 0 1 0 0 1 1 0 0 0 0 0 1 0 1 1 1 0 0 1 1 0 1 1 1 1 1 1 0 1 0 1 1 0 0 0\n",
            " 1 0 0 1 1 1 0 0 1 0 1 1 1 1 1 1 0 0 0 1 0 0 0 1 1 1 0 1 0 0 1 1 0 0 1 0 0\n",
            " 0 0 0 0 0 1 1 0 0 0 1 1 1 0 1 1 0 0 0 1 1 0 1 1 0 1 0 1 1 1 1 1 1 0 0 1 1\n",
            " 1 1 1 0 0 0 1 0 0 1 0 1 1 1 0 1 1 0 1 1 1 1 0 1 1 0 0 0 0 1 0 0 1 0 1 0 1\n",
            " 0 1 1 1 0 1 0 0 0 1 1 1 1 1 0 1 1 1 0 0 1 0 0 0 1 0 1 0 0 1 1 1 0 1 1 0 0\n",
            " 0 0 0 0 0 0 0 1 1 1 1 1 0 1 1 1 1 0 1 0 0 0 1 0 1 1 1 1 0 0 0 0 1 1 0 0 0\n",
            " 0 0 0 1 1 0 0 1 0 0 0 1 0 1 1 0 1 0 1 1 1 0 0 0 1 1 1 1 1 1 1 0 0 1 0 1 0\n",
            " 0 0 1 0 1 1 1 1 1 0 1 0 0 1 0 0 1 0 1 1 0 0 1 0 1 0 0 0 1 1 1 1 1 0 0 1 1\n",
            " 0 1 0 0 1 0 1 0 0 0 0 1 0 1 1 1 0 1 0 0 0 0 0 0 1 0 0 1 1 1 0 1 1 1 0 1 0\n",
            " 1 1 0 0 0 1 1 1 0 1 0 0 1 1 1 1 0 1 0 0 1 1 1 0 1 0 1 1 1 1 0 1 0 1 0 1 0\n",
            " 0 1 0 0 0 1 1 1 1 1 1 1 0 0 0 0 0 0 1 1 1 0 0 1 0 1 0 0 0 0 0 0 0 1 0 1 1\n",
            " 0 0 0 1 0 0 0 0 1]\n"
          ]
        }
      ]
    },
    {
      "cell_type": "code",
      "source": [
        "print(train_scaled.shape)\n",
        "print(test_scaled.shape)"
      ],
      "metadata": {
        "colab": {
          "base_uri": "https://localhost:8080/"
        },
        "id": "OAd_jOHl8b-K",
        "outputId": "7d8ea937-cf8b-413d-944e-70eebe2eb479"
      },
      "execution_count": 50,
      "outputs": [
        {
          "output_type": "stream",
          "name": "stdout",
          "text": [
            "(675, 7)\n",
            "(225, 7)\n"
          ]
        }
      ]
    },
    {
      "cell_type": "code",
      "source": [
        "import tensorflow as tf\n",
        "from tensorflow import keras\n",
        "from keras.models import Sequential\n",
        "from keras.layers import Dense\n",
        "from tensorflow._api.v2.config import optimizer\n",
        "\n",
        "model = keras.Sequential()\n",
        "model.add(keras.layers.Conv1D(64, kernel_size = 2, activation = 'relu', padding = 'same', input_shape = (train_scaled.shape[1], 1)))\n",
        "model.add(keras.layers.Dropout(0.4))\n",
        "model.add(keras.layers.MaxPooling1D(2))\n",
        "model.add(keras.layers.Flatten())\n",
        "model.add(keras.layers.Dense(units = 16, activation = 'relu'))"
      ],
      "metadata": {
        "id": "e1o9EonI8gge"
      },
      "execution_count": 54,
      "outputs": []
    },
    {
      "cell_type": "code",
      "source": [
        "from sklearn.utils import validation\n",
        "\n",
        "\n",
        "model.compile(loss = \"sparse_categorical_crossentropy\",\n",
        "                metrics = \"accuracy\",\n",
        "                optimizer = \"adam\")\n",
        "checkpoint_cb = keras.callbacks.ModelCheckpoint('best-cnn-model.h5', save_best_only=True)\n",
        "early_stopping_cb = keras.callbacks.EarlyStopping(patience=2, restore_best_weights=True, mode='auto')\n",
        "\n",
        "history = model.fit(train_scaled, train_target,\n",
        "                        epochs = 100,\n",
        "                        verbose = False,\n",
        "                        validation_data = (test_scaled, test_target),\n",
        "                        callbacks = [early_stopping_cb, checkpoint_cb])\n",
        "\n",
        "model.evaluate(test_scaled, test_target)"
      ],
      "metadata": {
        "colab": {
          "base_uri": "https://localhost:8080/"
        },
        "id": "rWfKle0yGxze",
        "outputId": "5890dd57-3bf4-4755-e225-e26fcf03b3ad"
      },
      "execution_count": 55,
      "outputs": [
        {
          "output_type": "stream",
          "name": "stdout",
          "text": [
            "8/8 [==============================] - 0s 2ms/step - loss: 0.3938 - accuracy: 0.8533\n"
          ]
        },
        {
          "output_type": "execute_result",
          "data": {
            "text/plain": [
              "[0.39384135603904724, 0.8533333539962769]"
            ]
          },
          "metadata": {},
          "execution_count": 55
        }
      ]
    },
    {
      "cell_type": "code",
      "source": [],
      "metadata": {
        "id": "yzFLLgC3SYJ9"
      },
      "execution_count": null,
      "outputs": []
    }
  ]
}